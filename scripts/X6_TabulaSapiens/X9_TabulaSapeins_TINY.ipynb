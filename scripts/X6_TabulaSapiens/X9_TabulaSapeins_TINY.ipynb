{
 "cells": [
  {
   "cell_type": "markdown",
   "id": "ec51656e",
   "metadata": {},
   "source": [
    "# Making a tiny version of the Tabula Sapiens data, representing a very tiny subset of the cell types so that it's possible to run using scSHC.                               \n",
    "\n",
    "## INPUT: \n",
    "\n",
    "    * data/test_data/TabulaSapiens_subset.h5ad\n",
    "\n",
    "## OUTPUT: \n",
    "\n",
    "    * data/test_data/TabulaSapiens_tiny.h5ad\n",
    "    \n",
    "# Environment Setup"
   ]
  },
  {
   "cell_type": "code",
   "execution_count": 1,
   "id": "e26ec723",
   "metadata": {},
   "outputs": [],
   "source": [
    "work_dir = './' #Change to where git clone Cytocipher_manuscript/\n",
    "import os\n",
    "os.chdir(work_dir)\n",
    "\n",
    "import numpy as np\n",
    "import pandas as pd\n",
    "import scanpy as sc\n",
    "\n",
    "data_dir = 'data/test_data/'"
   ]
  },
  {
   "cell_type": "markdown",
   "id": "74fd8096",
   "metadata": {},
   "source": [
    "# Loading the data"
   ]
  },
  {
   "cell_type": "code",
   "execution_count": 2,
   "id": "49cd74d9",
   "metadata": {},
   "outputs": [],
   "source": [
    "data = sc.read_h5ad(data_dir+'TabulaSapiens_subset.h5ad')"
   ]
  },
  {
   "cell_type": "code",
   "execution_count": 3,
   "id": "b6da9a59",
   "metadata": {},
   "outputs": [
    {
     "data": {
      "text/plain": [
       "(7385, 2435)"
      ]
     },
     "execution_count": 3,
     "metadata": {},
     "output_type": "execute_result"
    }
   ],
   "source": [
    "data.shape"
   ]
  },
  {
   "cell_type": "code",
   "execution_count": 5,
   "id": "6843f265",
   "metadata": {},
   "outputs": [
    {
     "data": {
      "text/plain": [
       "Index(['organ_tissue', 'method', 'donor', 'anatomical_information',\n",
       "       'n_counts_UMIs', 'n_genes', 'cell_ontology_class', 'free_annotation',\n",
       "       'manually_annotated', 'compartment', 'gender', 'organ_tissue_merged',\n",
       "       'overclusters', 'overclusters_merged'],\n",
       "      dtype='object')"
      ]
     },
     "execution_count": 5,
     "metadata": {},
     "output_type": "execute_result"
    }
   ],
   "source": [
    "data.obs.keys()"
   ]
  },
  {
   "cell_type": "code",
   "execution_count": 6,
   "id": "71a16e4e",
   "metadata": {},
   "outputs": [
    {
     "name": "stdout",
     "output_type": "stream",
     "text": [
      "503\n"
     ]
    }
   ],
   "source": [
    "print(len(np.unique(data.obs['overclusters'].values)))"
   ]
  },
  {
   "cell_type": "markdown",
   "id": "7656082e",
   "metadata": {},
   "source": [
    "# Subsetting the cell types..."
   ]
  },
  {
   "cell_type": "code",
   "execution_count": 26,
   "id": "3294f09a",
   "metadata": {},
   "outputs": [
    {
     "name": "stdout",
     "output_type": "stream",
     "text": [
      "500\n"
     ]
    }
   ],
   "source": [
    "labels = data.obs['cell_ontology_class'].values.astype(str)\n",
    "label_set = np.unique( labels )\n",
    "\n",
    "sub_labels = np.random.choice(label_set, size=12, replace=False)\n",
    "remaining_cells = []\n",
    "[remaining_cells.extend(np.where(labels==label)[0]) for label in sub_labels]\n",
    "\n",
    "print( len(remaining_cells) )"
   ]
  },
  {
   "cell_type": "code",
   "execution_count": 27,
   "id": "6bdbcb54",
   "metadata": {},
   "outputs": [
    {
     "data": {
      "text/plain": [
       "array(['eye photoreceptor cell', 'retinal ganglion cell',\n",
       "       'small intestine goblet cell', 'smooth muscle cell', 'leucocyte',\n",
       "       'lung ciliated cell', 'erythroid progenitor',\n",
       "       'retinal blood vessel endothelial cell', 'mast cell',\n",
       "       'endothelial cell of artery',\n",
       "       'cd4-positive, alpha-beta memory t cell',\n",
       "       'lacrimal gland functional unit cell'], dtype='<U59')"
      ]
     },
     "execution_count": 27,
     "metadata": {},
     "output_type": "execute_result"
    }
   ],
   "source": [
    "sub_labels"
   ]
  },
  {
   "cell_type": "code",
   "execution_count": 33,
   "id": "4bfae699",
   "metadata": {},
   "outputs": [],
   "source": [
    "small = data[remaining_cells,:].copy()"
   ]
  },
  {
   "cell_type": "code",
   "execution_count": 34,
   "id": "36e5d5c1",
   "metadata": {},
   "outputs": [
    {
     "data": {
      "text/plain": [
       "(500, 2435)"
      ]
     },
     "execution_count": 34,
     "metadata": {},
     "output_type": "execute_result"
    }
   ],
   "source": [
    "small.shape"
   ]
  },
  {
   "cell_type": "code",
   "execution_count": 35,
   "id": "79d30814",
   "metadata": {},
   "outputs": [],
   "source": [
    "sc.pp.filter_genes(small, min_cells=3)"
   ]
  },
  {
   "cell_type": "code",
   "execution_count": 36,
   "id": "3518ddcb",
   "metadata": {},
   "outputs": [
    {
     "data": {
      "text/plain": [
       "(500, 2180)"
      ]
     },
     "execution_count": 36,
     "metadata": {},
     "output_type": "execute_result"
    }
   ],
   "source": [
    "small.shape"
   ]
  },
  {
   "cell_type": "code",
   "execution_count": 43,
   "id": "43663603",
   "metadata": {},
   "outputs": [
    {
     "data": {
      "text/plain": [
       "(500, 2180)"
      ]
     },
     "execution_count": 43,
     "metadata": {},
     "output_type": "execute_result"
    }
   ],
   "source": [
    "counts = small.raw.to_adata().to_df().loc[:, small.var_names]\n",
    "counts.shape"
   ]
  },
  {
   "cell_type": "code",
   "execution_count": 58,
   "id": "10616c5c",
   "metadata": {},
   "outputs": [
    {
     "name": "stdout",
     "output_type": "stream",
     "text": [
      "Same cells:  True\n",
      "Same genes:  True\n"
     ]
    }
   ],
   "source": [
    "print('Same cells: ', np.all(counts.index.values == small.obs_names.values))\n",
    "print('Same genes: ', np.all(counts.columns.values == small.var_names.values))"
   ]
  },
  {
   "cell_type": "code",
   "execution_count": 44,
   "id": "1d0d6122",
   "metadata": {},
   "outputs": [
    {
     "data": {
      "text/plain": [
       "array([[ 0.,  0.,  0., ...,  0.,  0.,  0.],\n",
       "       [ 0.,  0.,  0., ...,  0.,  0.,  0.],\n",
       "       [ 0.,  0.,  0., ...,  0.,  0.,  0.],\n",
       "       ...,\n",
       "       [ 1.,  0.,  0., ...,  0., 10.,  3.],\n",
       "       [ 0.,  9.,  1., ...,  0., 68.,  0.],\n",
       "       [ 0.,  0.,  0., ...,  0.,  0.,  0.]], dtype=float32)"
      ]
     },
     "execution_count": 44,
     "metadata": {},
     "output_type": "execute_result"
    }
   ],
   "source": [
    "counts.values"
   ]
  },
  {
   "cell_type": "code",
   "execution_count": 45,
   "id": "75902204",
   "metadata": {},
   "outputs": [],
   "source": [
    "small_min = sc.AnnData(small.to_df(), obs=small.obs, var=small.var)\n",
    "small_min.layers['counts'] = counts.values"
   ]
  },
  {
   "cell_type": "code",
   "execution_count": 46,
   "id": "389ffbca",
   "metadata": {},
   "outputs": [],
   "source": [
    "small_min.write_h5ad(data_dir+'TabulaSapiens_tiny.h5ad', compression='gzip')"
   ]
  },
  {
   "cell_type": "markdown",
   "id": "e72b39d3",
   "metadata": {},
   "source": [
    "## Also adding counts to TabulaSapiens_subset.h5ad"
   ]
  },
  {
   "cell_type": "code",
   "execution_count": 48,
   "id": "ca40f515",
   "metadata": {},
   "outputs": [
    {
     "data": {
      "text/plain": [
       "(7385, 2435)"
      ]
     },
     "execution_count": 48,
     "metadata": {},
     "output_type": "execute_result"
    }
   ],
   "source": [
    "data.shape"
   ]
  },
  {
   "cell_type": "code",
   "execution_count": 62,
   "id": "e6c79790",
   "metadata": {},
   "outputs": [],
   "source": [
    "subset_counts = data.raw.to_adata().to_df().loc[:,data.var_names]"
   ]
  },
  {
   "cell_type": "code",
   "execution_count": 63,
   "id": "34c27b0b",
   "metadata": {},
   "outputs": [
    {
     "data": {
      "text/plain": [
       "(7385, 2435)"
      ]
     },
     "execution_count": 63,
     "metadata": {},
     "output_type": "execute_result"
    }
   ],
   "source": [
    "subset_counts.shape"
   ]
  },
  {
   "cell_type": "code",
   "execution_count": 64,
   "id": "282ec5fc",
   "metadata": {},
   "outputs": [
    {
     "name": "stdout",
     "output_type": "stream",
     "text": [
      "Same cells:  True\n",
      "Same genes:  True\n"
     ]
    }
   ],
   "source": [
    "print('Same cells: ', np.all(subset_counts.index.values == data.obs_names.values))\n",
    "print('Same genes: ', np.all(subset_counts.columns.values == data.var_names.values))"
   ]
  },
  {
   "cell_type": "code",
   "execution_count": 65,
   "id": "1dbd3a25",
   "metadata": {},
   "outputs": [
    {
     "data": {
      "text/plain": [
       "array([[0., 0., 0., ..., 0., 0., 0.],\n",
       "       [0., 0., 0., ..., 0., 0., 1.],\n",
       "       [0., 0., 0., ..., 0., 0., 1.],\n",
       "       ...,\n",
       "       [0., 0., 5., ..., 0., 1., 0.],\n",
       "       [0., 0., 1., ..., 0., 0., 0.],\n",
       "       [0., 1., 0., ..., 0., 0., 0.]], dtype=float32)"
      ]
     },
     "execution_count": 65,
     "metadata": {},
     "output_type": "execute_result"
    }
   ],
   "source": [
    "data.layers['counts'] = subset_counts.values\n",
    "data.layers['counts']"
   ]
  },
  {
   "cell_type": "code",
   "execution_count": 66,
   "id": "ec70aaac",
   "metadata": {},
   "outputs": [],
   "source": [
    "#### Saving...\n",
    "data.write_h5ad(data_dir+'TabulaSapiens_subset.h5ad', compression='gzip')"
   ]
  }
 ],
 "metadata": {
  "kernelspec": {
   "display_name": "Python 3",
   "language": "python",
   "name": "python3"
  },
  "language_info": {
   "codemirror_mode": {
    "name": "ipython",
    "version": 3
   },
   "file_extension": ".py",
   "mimetype": "text/x-python",
   "name": "python",
   "nbconvert_exporter": "python",
   "pygments_lexer": "ipython3",
   "version": "3.8.12"
  }
 },
 "nbformat": 4,
 "nbformat_minor": 5
}
